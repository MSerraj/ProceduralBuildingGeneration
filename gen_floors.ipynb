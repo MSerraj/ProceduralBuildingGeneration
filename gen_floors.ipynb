{
 "cells": [
  {
   "cell_type": "markdown",
   "id": "70a56776",
   "metadata": {},
   "source": [
    "# Generate smallish floorplans"
   ]
  },
  {
   "cell_type": "code",
   "execution_count": null,
   "id": "d494dadc",
   "metadata": {},
   "outputs": [],
   "source": [
    "def generate_floors(size, n_rectangles):\n",
    "    \"\"\"\n",
    "    Function that generates floorplans according to number of floorplans\n",
    "    \"\"\"\n",
    "    x, y = size\n",
    "    "
   ]
  }
 ],
 "metadata": {
  "kernelspec": {
   "display_name": "SEMPRO",
   "language": "python",
   "name": "python3"
  },
  "language_info": {
   "name": "python",
   "version": "3.11.9"
  }
 },
 "nbformat": 4,
 "nbformat_minor": 5
}
