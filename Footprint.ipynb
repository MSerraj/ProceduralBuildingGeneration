{
 "cells": [
  {
   "cell_type": "markdown",
   "metadata": {},
   "source": [
    "First  three steps\n"
   ]
  },
  {
   "cell_type": "code",
   "execution_count": 2,
   "metadata": {},
   "outputs": [],
   "source": [
    "import numpy as np\n",
    "import matplotlib.pyplot as plt\n",
    "import random\n",
    "from grid import *\n"
   ]
  },
  {
   "cell_type": "code",
   "execution_count": 3,
   "metadata": {},
   "outputs": [],
   "source": [
    "grid_size = (10, 10)\n",
    "grid = np.zeros(grid_size)  # 0 = empty, 1 = wall, 2 = room, 3 = door, 4 = window"
   ]
  },
  {
   "cell_type": "code",
   "execution_count": 4,
   "metadata": {},
   "outputs": [
    {
     "name": "stdout",
     "output_type": "stream",
     "text": [
      "[[0. 0. 0. 0. 0. 0. 0. 0. 0. 0.]\n",
      " [0. 0. 0. 0. 0. 0. 0. 0. 0. 0.]\n",
      " [0. 0. 0. 0. 0. 0. 0. 0. 0. 0.]\n",
      " [0. 0. 0. 0. 0. 0. 0. 0. 0. 0.]\n",
      " [0. 0. 0. 0. 0. 0. 0. 0. 0. 0.]\n",
      " [0. 0. 0. 0. 0. 0. 0. 0. 0. 0.]\n",
      " [0. 0. 0. 0. 0. 0. 0. 0. 0. 0.]\n",
      " [0. 0. 0. 0. 0. 0. 0. 0. 0. 0.]\n",
      " [0. 0. 0. 0. 0. 0. 0. 0. 0. 0.]\n",
      " [0. 0. 0. 0. 0. 0. 0. 0. 0. 0.]]\n"
     ]
    }
   ],
   "source": [
    "print(grid)"
   ]
  },
  {
   "cell_type": "code",
   "execution_count": 5,
   "metadata": {},
   "outputs": [],
   "source": [
    "def gen_room(grid, start, size):\n",
    "    \"\"\"\n",
    "    1 = room, 2 = walls\n",
    "    \"\"\"\n",
    "    x, y = start\n",
    "    w, h = size\n",
    "\n",
    "    if x + w > grid.shape[0] or y + h > grid.shape[1]:\n",
    "        raise ValueError(\"Room does not fit in the grid.\")\n",
    "\n",
    "    grid[x:x+w, y:y+h] = 1\n",
    "\n",
    "    grid[x-1:x+w+1, y-1] = 2  # Top wall\n",
    "    grid[x-1:x+w+1, y+h] = 2  # Bottom wall\n",
    "    grid[x-1, y:y+h] = 2  # Left wall\n",
    "    grid[x+w, y:y+h] = 2  # Right wall\n",
    "    print(grid)\n",
    "\n",
    "    return grid"
   ]
  },
  {
   "cell_type": "code",
   "execution_count": 6,
   "metadata": {},
   "outputs": [
    {
     "name": "stdout",
     "output_type": "stream",
     "text": [
      "[[2. 2. 2. 2. 2. 0. 0. 0. 0. 0.]\n",
      " [2. 1. 1. 1. 2. 0. 0. 0. 0. 0.]\n",
      " [2. 1. 1. 1. 2. 0. 0. 0. 0. 0.]\n",
      " [2. 1. 1. 1. 2. 0. 0. 0. 0. 0.]\n",
      " [2. 2. 2. 2. 2. 0. 0. 0. 0. 0.]\n",
      " [0. 0. 0. 0. 0. 0. 0. 0. 0. 0.]\n",
      " [0. 0. 0. 0. 0. 0. 0. 0. 0. 0.]\n",
      " [0. 0. 0. 0. 0. 0. 0. 0. 0. 0.]\n",
      " [0. 0. 0. 0. 0. 0. 0. 0. 0. 0.]\n",
      " [0. 0. 0. 0. 0. 0. 0. 0. 0. 0.]]\n"
     ]
    }
   ],
   "source": [
    "start = (1,1)\n",
    "size = (3,3)\n",
    "grid2 = gen_room(grid, start, size)"
   ]
  },
  {
   "cell_type": "code",
   "execution_count": null,
   "metadata": {},
   "outputs": [],
   "source": []
  },
  {
   "cell_type": "code",
   "execution_count": 7,
   "metadata": {},
   "outputs": [
    {
     "name": "stdout",
     "output_type": "stream",
     "text": [
      "UP(1, [[0, 1, 0], [0, 1, 0], [0, 0, 0]])\n"
     ]
    },
    {
     "data": {
      "image/png": "[encoded data removed]",
      "text/plain": [
       "<Figure size 600x500 with 16 Axes>"
      ]
     },
     "metadata": {},
     "output_type": "display_data"
    }
   ],
   "source": [
    "wall = Wall(1)\n",
    "# Visualization\n",
    "fig, axes = plt.subplots(4, 4, figsize=(6, 5))\n",
    "print(wall)\n",
    "for ax, wall in zip(axes.flat, Wall):\n",
    "    ax.imshow(wall.ins, cmap = \"gray\")\n",
    "    ax.set_title(f\"{wall.name}, {wall.value}\")\n",
    "    ax.axis('off')\n",
    "\n",
    "\n",
    "plt.suptitle('Visualization of Wall Blocks', fontsize=16)\n",
    "plt.tight_layout()\n",
    "\n",
    "plt.show()\n"
   ]
  },
  {
   "cell_type": "code",
   "execution_count": 8,
   "metadata": {},
   "outputs": [],
   "source": [
    "def gen_rect(size, Wall=Wall, plot=True):\n",
    "    \"\"\"\n",
    "    Function to generate a rectangle and placing accurate corner pieces as well\n",
    "    \"\"\"\n",
    "    x, y = size\n",
    "    rect = []\n",
    "    top = [Wall(6)] + (x-2)*[Wall(10)] + [Wall(12)]\n",
    "    mid = [Wall(5)] + [Wall(17)] * (x - 2) + [Wall(5)]\n",
    "    bottom = [Wall(3)] + [Wall(10)] * (x - 2) + [Wall(9)]\n",
    "    rect = np.array([top] + [mid] * (y - 2) + [bottom])\n",
    "    if (plot): plot_rect(size, rect)\n",
    "    return rect\n",
    "\n",
    "def glue_rect(rect_a, rect_b, offset = 0, Wall=Wall, plot=True):\n",
    "    \"\"\"\n",
    "    Any of the 8 sides, with offset left-side corner, also take care of connecting wall and corners\n",
    "    \"\"\"\n",
    "    \n",
    "    y_a, x_a = rect_a.shape\n",
    "    y_b, x_b = rect_b.shape\n",
    "    print(f\"x_a={x_a}, y_a={y_a}\")\n",
    "    print(f\"x_b={x_b}, y_b={y_b}\")\n",
    "    print(f\"Offset: {offset}\")\n",
    "    \n",
    "    combined_shape = (y_a + y_b - 1, max(x_a, offset + x_b))\n",
    "    y_c, x_c = combined_shape\n",
    "    combined_rect = np.full(combined_shape, Wall.EMPTY, dtype=object)\n",
    "\n",
    "    combined_rect[:y_a, :x_a] = rect_a.copy()\n",
    "    combined_rect[y_a-1 :y_a+y_b-1, offset:offset+x_b ] = rect_b.copy()\n",
    "    # Fix corners and destroy connecting wall, \n",
    "    # Border is from y = y_a, x = offset to x = offset + x_b \n",
    "    for j in range(x_b):\n",
    "        # Left-hand side corner\n",
    "        if j == 0:\n",
    "            combined_rect[y_a-1, offset] = Wall(12) if offset > 0 else Wall(5)\n",
    "\n",
    "        # Destroy wall in between\n",
    "        if 0 < j < x_a-1 - offset:\n",
    "            combined_rect[y_a-1, offset + j] = Wall(17)\n",
    "\n",
    "        # Right-hand side corner\n",
    "        if j == x_a - 1 - offset:\n",
    "            if offset + x_b < x_a:\n",
    "                combined_rect[y_a-1, offset + j] = Wall(6)\n",
    "            elif offset + x_b == x_a:\n",
    "                combined_rect[y_a-1, offset + j] = Wall(5)\n",
    "            else:\n",
    "                combined_rect[y_a-1, offset + j] = Wall(3)\n",
    "    if plot:\n",
    "        plot_rect((x_c, y_c), combined_rect)\n",
    "    return combined_rect\n",
    "\n",
    "def plot_rect(size, rect):\n",
    "    fig, axes = plt.subplots(size[1], size[0], figsize=size, gridspec_kw={'wspace': 0, 'hspace': 0})\n",
    "    \n",
    "    for ax, row in zip(axes.flatten(), rect.flatten()):\n",
    "        ax.imshow(row.ins, aspect='auto')\n",
    "        ax.axis('off')\n",
    "\n",
    "\n",
    "    plt.tight_layout()\n",
    "    plt.show()\n"
   ]
  },
  {
   "cell_type": "code",
   "execution_count": null,
   "metadata": {},
   "outputs": [
    {
     "data": {
      "text/plain": [
       "'\\ndef gen_floor(size_a, size_b=0 , L=True, Wall=Wall, plot=True):\\n    Generate floor, size_a is \"primary\" rectangle and size_b is \"secondary\" if L or T-shaped\\n    rect_a = gen_rect(size_a)\\n    if (size_b == 0): output = rect_a\\n    else: \\n        rect_b = gen_rect(size_b)\\n        if (L):\\n            \\n        else:\\n\\n\\n    return rect\"\\n#def place_room(size, Wall=Wall, rect)\\n'"
      ]
     },
     "execution_count": 9,
     "metadata": {},
     "output_type": "execute_result"
    }
   ],
   "source": [
    "\n",
    "\n",
    "def int_to_wall(rect, Wall=Wall):\n",
    "    \"\"\"\n",
    "    Converts a numpy array of integers to an array of Wall objects.\n",
    "    Each integer is transformed to Wall(n) where n is the integer value.\n",
    "    \"\"\"\n",
    "    return np.vectorize(lambda x: Wall(x))(rect)\n",
    "\n",
    "def gen_rect_int(size):\n",
    "    \"\"\"\n",
    "    Function to generate a rectangle and placing accurate corner pieces as well\n",
    "\n",
    "    \"\"\"\n",
    "    x, y = size\n",
    "    rect = []\n",
    "    \n",
    "    # Using integers for walls: 6, 10, 12, 5, 3, 9\n",
    "    top = [6] + (x-2)*[10] + [12]\n",
    "    mid = [5] + [17] * (x - 2) + [5]\n",
    "    bottom = [3] + [10] * (x - 2) + [9]\n",
    "    \n",
    "    # Construct the rectangle\n",
    "    rect = np.array([top] + [mid] * (y - 2) + [bottom])\n",
    "    \n",
    "    return rect\n",
    "\n",
    "def glue_rect_int(rect_a, rect_b, offset=0, plot=True):\n",
    "    \"\"\"\n",
    "    Glue two rectangles (rect_a and rect_b) together with a specified offset.\n",
    "    Handles the corners and connecting walls, represented with integers.\n",
    "    \"\"\"\n",
    "    y_a, x_a = rect_a.shape\n",
    "    y_b, x_b = rect_b.shape\n",
    "    print(f\"x_a={x_a}, y_a={y_a}\")\n",
    "    print(f\"x_b={x_b}, y_b={y_b}\")\n",
    "    print(f\"Offset: {offset}\")\n",
    "    \n",
    "    # Create combined shape (rows, columns)\n",
    "    combined_shape = (y_a + y_b - 1, max(x_a, offset + x_b))\n",
    "    y_c, x_c = combined_shape\n",
    "    combined_rect = np.full(combined_shape, 0, dtype=int)  # Use 0 to represent empty spaces\n",
    "\n",
    "    # Place rect_a into the combined grid\n",
    "    combined_rect[:y_a, :x_a] = rect_a.copy()\n",
    "    # Place rect_b with offset into the combined grid\n",
    "    combined_rect[y_a-1 : y_a + y_b - 1, offset : offset + x_b] = rect_b.copy()\n",
    "\n",
    "    # Fix corners and destroy connecting wall\n",
    "    for j in range(x_b):\n",
    "        # Left-hand side corner\n",
    "        if j == 0:\n",
    "            combined_rect[y_a-1, offset] = 12 if offset > 0 else 5\n",
    "\n",
    "        # Destroy wall in between\n",
    "        if 0 < j < x_a - 1 - offset:\n",
    "            combined_rect[y_a-1, offset + j] = 17  # Empty inside space\n",
    "\n",
    "        # Right-hand side corner\n",
    "        if j == x_a - 1 - offset:\n",
    "            if offset + x_b < x_a:\n",
    "                combined_rect[y_a-1, offset+j] = 6\n",
    "            elif offset + x_b == x_a:\n",
    "                combined_rect[y_a-1, offset+j] = 5\n",
    "            else:\n",
    "                combined_rect[y_a-1, offset+j] = 3\n",
    "\n",
    "    return combined_rect\n",
    "\n",
    "def place_room_seeds(floor, total=0):\n",
    "    \"\"\"\n",
    "    Function to create and place room seeds\n",
    "    So it goes through plan and when it find corner it places opposing corner. \n",
    "    Should add option for inside vs outside\n",
    "    floor:\n",
    "      Our floor\n",
    "    total:\n",
    "      Our eventual total room number\n",
    "    \"\"\"\n",
    "    seeds = []\n",
    "    y, x = floor.shape\n",
    "    for j, i in np.ndindex(y, x):\n",
    "        opposites = {3: (j-1, i+1), 9: (j-1, i-1), 6: (j+1, i+1), 12: (j+1, i-1)}\n",
    "        if any(floor[j,i] == value and floor[coord] == 17 for value, coord in opposites.items()):\n",
    "            seeds.append((j,i))\n",
    "    return seeds\n",
    "\n",
    "def grow_room_seeds(floor, seeds):\n",
    "    \"\"\"\n",
    "    Implement 2-part room region growing algo from:10.1109/TG.2019.2957733\n",
    "    First we grow rectangularly till we encounter other rooms.\n",
    "    Secondly we fill remaining space.\n",
    "    This version grows seed by seed incrementally (1 step at a time).\n",
    "    \"\"\"\n",
    "    consecutive = {3: (-1, 1), 9: (-1, -1), 6: (1, 1), 12: (1, -1)}\n",
    "    room_type_opposite = {3: 12, 9: 6, 6: 9, 12: 3}\n",
    "    y_max, x_max = floor.shape\n",
    "\n",
    "    updated_seeds = []  # To store seeds that still need to grow\n",
    "\n",
    "    for (j, i) in seeds:\n",
    "        room_type = floor[j, i]\n",
    "        if room_type not in consecutive:\n",
    "            continue\n",
    "\n",
    "        dy, dx = consecutive[room_type]\n",
    "\n",
    "        # First step, grow corners and adapt and get rid of old walls while growing\n",
    "        prev_y, prev_x = j, i\n",
    "        y, x = j + dy, i + dx\n",
    "\n",
    "        if 0 <= y < y_max and 0 <= x < x_max and floor[y, x] == 17:\n",
    "            # Grow the seed by 1 step\n",
    "            floor[y, x] = room_type_opposite[room_type]\n",
    "            print(\"grown\")\n",
    "            # Destroy horizontal connections to outer wall\n",
    "            while 0 <= (prev_x - dx) < x_max and floor[prev_y, prev_x - dx] == 10:\n",
    "                floor[prev_y, prev_x] = 17\n",
    "                prev_x -= dx\n",
    "\n",
    "            # Destroy vertical connections to outer wall\n",
    "            while 0 <= (prev_y - dy) < y_max and floor[prev_y - dy, prev_x] == 5:\n",
    "                floor[prev_y, prev_x] = 17\n",
    "                prev_y -= dy\n",
    "\n",
    "            # Build horizontal connections to outer wall\n",
    "            new_y, new_x = y, x\n",
    "            while 0 <= (new_x - dx) < x_max and floor[y, new_x - dx] == 17:\n",
    "                floor[y, new_x - dx] = 10\n",
    "                new_x -= dx\n",
    "\n",
    "            # Build vertical connections to outer wall\n",
    "            while 0 <= (new_y - dy) < y_max and floor[new_y - dy, x] == 17:\n",
    "                floor[new_y - dy, x] = 10\n",
    "                new_y -= dy\n",
    "\n",
    "            # Add the new position to the seeds list for further growth\n",
    "            updated_seeds.append((y, x))\n",
    "            print(\"seeds\")\n",
    "\n",
    "    return floor, updated_seeds\n",
    "\n",
    "# Example usage:\n",
    "def grow_rooms(floor, initial_seeds):\n",
    "    seeds = initial_seeds\n",
    "    while seeds:\n",
    "        floor, seeds = grow_room_seeds(floor, seeds)\n",
    "    return floor\n",
    "\n",
    "\n",
    "\"\"\"\n",
    "def gen_floor(size_a, size_b=0 , L=True, Wall=Wall, plot=True):\n",
    "    Generate floor, size_a is \"primary\" rectangle and size_b is \"secondary\" if L or T-shaped\n",
    "    rect_a = gen_rect(size_a)\n",
    "    if (size_b == 0): output = rect_a\n",
    "    else: \n",
    "        rect_b = gen_rect(size_b)\n",
    "        if (L):\n",
    "            \n",
    "        else:\n",
    "\n",
    "\n",
    "    return rect\"\n",
    "#def place_room(size, Wall=Wall, rect)\n",
    "\"\"\"\n"
   ]
  },
  {
   "cell_type": "code",
   "execution_count": 10,
   "metadata": {},
   "outputs": [],
   "source": [
    "size = (20, 30)\n",
    "rect = gen_rect(size, plot=False)"
   ]
  },
  {
   "cell_type": "code",
   "execution_count": 11,
   "metadata": {},
   "outputs": [
    {
     "name": "stdout",
     "output_type": "stream",
     "text": [
      "x_a=10, y_a=20\n",
      "x_b=15, y_b=5\n",
      "Offset: 5\n"
     ]
    }
   ],
   "source": [
    "rect_a = gen_rect((10, 20), plot=False)\n",
    "rect_b = gen_rect((15, 5), plot=False)\n",
    "\n",
    "combined = glue_rect(rect_a, rect_b, offset=5, plot=False)"
   ]
  },
  {
   "cell_type": "code",
   "execution_count": 12,
   "metadata": {},
   "outputs": [
    {
     "name": "stdout",
     "output_type": "stream",
     "text": [
      "Valid building:\n",
      "\n",
      "Invalid test caught: New floor exceeds the one under\n"
     ]
    }
   ],
   "source": [
    "ground_fl = np.array([\n",
    "    [1,1,1,1],\n",
    "    [1,0,0,1],\n",
    "    [1,0,0,1],\n",
    "    [1,1,1,1]\n",
    "])\n",
    "\n",
    "first_fl = np.array([\n",
    "    [1,1,1,0],\n",
    "    [1,0,1,0],\n",
    "    [1,0,1,0],\n",
    "    [1,1,1,0]\n",
    "])\n",
    "\n",
    "# Should work now\n",
    "building = Building(ground_fl)\n",
    "building.add_floor(first_fl)\n",
    "print(\"Valid building:\")\n",
    "\n",
    "# Invalid case (exterior wall violation)\n",
    "invalid_fl = np.array([\n",
    "    [1,1,1,1],  # Exceeds on right edge\n",
    "    [1,0,0,1],\n",
    "    [1,0,0,1],\n",
    "    [1,1,1,1]\n",
    "])\n",
    "\n",
    "try:\n",
    "    invalid = Building(first_fl)\n",
    "    invalid.add_floor(invalid_fl)  # Should fail\n",
    "except ValueError as e:\n",
    "    print(f\"\\nInvalid test caught: {e}\")"
   ]
  },
  {
   "cell_type": "code",
   "execution_count": 13,
   "metadata": {},
   "outputs": [
    {
     "name": "stdout",
     "output_type": "stream",
     "text": [
      "x_a=10, y_a=20\n",
      "x_b=15, y_b=5\n",
      "Offset: 5\n"
     ]
    },
    {
     "data": {
      "image/png": "[encoded data removed]",
      "text/plain": [
       "<Figure size 2000x2400 with 480 Axes>"
      ]
     },
     "metadata": {},
     "output_type": "display_data"
    },
    {
     "name": "stdout",
     "output_type": "stream",
     "text": [
      "[[ 6 10 10 10 10 10 10 10 10 12  0  0  0  0  0  0  0  0  0  0]\n",
      " [ 5 17 17 17 17 17 17 17 17  5  0  0  0  0  0  0  0  0  0  0]\n",
      " [ 5 17 17 17 17 17 17 17 17  5  0  0  0  0  0  0  0  0  0  0]\n",
      " [ 5 17 17 17 17 17 17 17 17  5  0  0  0  0  0  0  0  0  0  0]\n",
      " [ 5 17 17 17 17 17 17 17 17  5  0  0  0  0  0  0  0  0  0  0]\n",
      " [ 5 17 17 17 17 17 17 17 17  5  0  0  0  0  0  0  0  0  0  0]\n",
      " [ 5 17 17 17 17 17 17 17 17  5  0  0  0  0  0  0  0  0  0  0]\n",
      " [ 5 17 17 17 17 17 17 17 17  5  0  0  0  0  0  0  0  0  0  0]\n",
      " [ 5 17 17 17 17 17 17 17 17  5  0  0  0  0  0  0  0  0  0  0]\n",
      " [ 5 17 17 17 17 17 17 17 17  5  0  0  0  0  0  0  0  0  0  0]\n",
      " [ 5 17 17 17 17 17 17 17 17  5  0  0  0  0  0  0  0  0  0  0]\n",
      " [ 5 17 17 17 17 17 17 17 17  5  0  0  0  0  0  0  0  0  0  0]\n",
      " [ 5 17 17 17 17 17 17 17 17  5  0  0  0  0  0  0  0  0  0  0]\n",
      " [ 5 17 17 17 17 17 17 17 17  5  0  0  0  0  0  0  0  0  0  0]\n",
      " [ 5 17 17 17 17 17 17 17 17  5  0  0  0  0  0  0  0  0  0  0]\n",
      " [ 5 17 17 17 17 17 17 17 17  5  0  0  0  0  0  0  0  0  0  0]\n",
      " [ 5 17 17 17 17 17 17 17 17  5  0  0  0  0  0  0  0  0  0  0]\n",
      " [ 5 17 17 17 17 17 17 17 17  5  0  0  0  0  0  0  0  0  0  0]\n",
      " [ 5 17 17 17 17 17 17 17 17  5  0  0  0  0  0  0  0  0  0  0]\n",
      " [ 3 10 10 10 10 12 17 17 17  3 10 10 10 10 10 10 10 10 10 12]\n",
      " [ 0  0  0  0  0  5 17 17 17 17 17 17 17 17 17 17 17 17 17  5]\n",
      " [ 0  0  0  0  0  5 17 17 17 17 17 17 17 17 17 17 17 17 17  5]\n",
      " [ 0  0  0  0  0  5 17 17 17 17 17 17 17 17 17 17 17 17 17  5]\n",
      " [ 0  0  0  0  0  3 10 10 10 10 10 10 10 10 10 10 10 10 10  9]]\n"
     ]
    }
   ],
   "source": [
    "rect_a_int = gen_rect_int((10, 20))\n",
    "rect_b_int = gen_rect_int((15, 5))\n",
    "\n",
    "combined_int = glue_rect_int(rect_a_int, rect_b_int, offset=5)\n",
    "combined_conv = int_to_wall(combined_int)\n",
    "\n",
    "plot_rect((combined_conv.shape[1], combined_conv.shape[0]),combined_conv)\n",
    "print(combined_int)\n"
   ]
  },
  {
   "cell_type": "code",
   "execution_count": 14,
   "metadata": {},
   "outputs": [
    {
     "name": "stdout",
     "output_type": "stream",
     "text": [
      "[(0, 0), (0, 9), (19, 0), (19, 9)]\n"
     ]
    }
   ],
   "source": [
    "seeds = place_room_seeds(rect_a_int, total=0)\n",
    "print(seeds)\n"
   ]
  },
  {
   "cell_type": "code",
   "execution_count": 15,
   "metadata": {},
   "outputs": [
    {
     "name": "stdout",
     "output_type": "stream",
     "text": [
      "[[ 6 10 10 10 10 10 10 10 10 12]\n",
      " [ 5 17 17 17 17 17 17 17 17  5]\n",
      " [ 5 17 17 17 17 17 17 17 17  5]\n",
      " [ 5 17 17 17 17 17 17 17 17  5]\n",
      " [ 5 17 17 17 17 17 17 17 17  5]\n",
      " [ 5 17 17 17 17 17 17 17 17  5]\n",
      " [ 5 17 17 17 17 17 17 17 17  5]\n",
      " [ 5 17 17 17 17 17 17 17 17  5]\n",
      " [ 5 17 17 17 17 17 17 17 17  5]\n",
      " [ 5 17 17 17 17 17 17 17 17  5]\n",
      " [ 5 17 17 17 17 17 17 17 17  5]\n",
      " [ 5 17 17 17 17 17 17 17 17  5]\n",
      " [ 5 17 17 17 17 17 17 17 17  5]\n",
      " [ 5 17 17 17 17 17 17 17 17  5]\n",
      " [ 5 17 17 17 17 17 17 17 17  5]\n",
      " [ 5 17 17 17 17 17 17 17 17  5]\n",
      " [ 5 17 17 17 17 17 17 17 17  5]\n",
      " [ 5 17 17 17 17 17 17 17 17  5]\n",
      " [ 5 17 17 17 17 17 17 17 17  5]\n",
      " [ 3 10 10 10 10 10 10 10 10  9]]\n"
     ]
    }
   ],
   "source": [
    "print(rect_a_int)"
   ]
  },
  {
   "cell_type": "code",
   "execution_count": 16,
   "metadata": {},
   "outputs": [
    {
     "name": "stdout",
     "output_type": "stream",
     "text": [
      "grown\n",
      "seeds\n",
      "grown\n",
      "seeds\n",
      "grown\n",
      "seeds\n",
      "grown\n",
      "seeds\n"
     ]
    },
    {
     "data": {
      "image/png": "[encoded data removed]",
      "text/plain": [
       "<Figure size 1000x2000 with 200 Axes>"
      ]
     },
     "metadata": {},
     "output_type": "display_data"
    },
    {
     "name": "stdout",
     "output_type": "stream",
     "text": [
      "[[ 6 10 10 10 10 10 10 10 10 12]\n",
      " [ 5  9 17 17 17 17 17 17  3  5]\n",
      " [ 5 17 17 17 17 17 17 17 17  5]\n",
      " [ 5 17 17 17 17 17 17 17 17  5]\n",
      " [ 5 17 17 17 17 17 17 17 17  5]\n",
      " [ 5 17 17 17 17 17 17 17 17  5]\n",
      " [ 5 17 17 17 17 17 17 17 17  5]\n",
      " [ 5 17 17 17 17 17 17 17 17  5]\n",
      " [ 5 17 17 17 17 17 17 17 17  5]\n",
      " [ 5 17 17 17 17 17 17 17 17  5]\n",
      " [ 5 17 17 17 17 17 17 17 17  5]\n",
      " [ 5 17 17 17 17 17 17 17 17  5]\n",
      " [ 5 17 17 17 17 17 17 17 17  5]\n",
      " [ 5 17 17 17 17 17 17 17 17  5]\n",
      " [ 5 17 17 17 17 17 17 17 17  5]\n",
      " [ 5 17 17 17 17 17 17 17 17  5]\n",
      " [ 5 17 17 17 17 17 17 17 17  5]\n",
      " [ 5 17 17 17 17 17 17 17 17  5]\n",
      " [ 5 12 17 17 17 17 17 17  6  5]\n",
      " [ 3 10 10 10 10 10 10 10 10  9]]\n"
     ]
    }
   ],
   "source": [
    "for _ in range(10):  # Grow for 10 steps\n",
    "    floor, seeds = grow_room_seeds(rect_a_int, seeds)\n",
    "    if not seeds:\n",
    "        break  # Stop if no more seeds to grow\n",
    "\n",
    "grown_plott = int_to_wall(floor)\n",
    "plot_rect((grown_plott.shape[1], grown_plott.shape[0]),grown_plott)\n",
    "print(floor)\n"
   ]
  }
 ],
 "metadata": {
  "kernelspec": {
   "display_name": "SEMPRO",
   "language": "python",
   "name": "python3"
  },
  "language_info": {
   "codemirror_mode": {
    "name": "ipython",
    "version": 3
   },
   "file_extension": ".py",
   "mimetype": "text/x-python",
   "name": "python",
   "nbconvert_exporter": "python",
   "pygments_lexer": "ipython3",
   "version": "3.11.9"
  }
 },
 "nbformat": 4,
 "nbformat_minor": 2
}
